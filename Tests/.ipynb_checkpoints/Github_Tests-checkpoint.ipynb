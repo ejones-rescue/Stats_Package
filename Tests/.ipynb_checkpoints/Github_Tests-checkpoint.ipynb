{
 "cells": [
  {
   "cell_type": "code",
   "execution_count": 1,
   "id": "d27e6e28",
   "metadata": {},
   "outputs": [
    {
     "ename": "ModuleNotFoundError",
     "evalue": "No module named 'stats_descriptives'",
     "output_type": "error",
     "traceback": [
      "\u001b[0;31m---------------------------------------------------------------------------\u001b[0m",
      "\u001b[0;31mModuleNotFoundError\u001b[0m                       Traceback (most recent call last)",
      "\u001b[0;32m<ipython-input-1-1c0ae8bf5ec8>\u001b[0m in \u001b[0;36m<module>\u001b[0;34m\u001b[0m\n\u001b[1;32m      1\u001b[0m \u001b[0;31m##Stats Packages - OLD WAY\u001b[0m\u001b[0;34m\u001b[0m\u001b[0;34m\u001b[0m\u001b[0;34m\u001b[0m\u001b[0m\n\u001b[0;32m----> 2\u001b[0;31m \u001b[0;32mfrom\u001b[0m \u001b[0mstats_descriptives\u001b[0m\u001b[0;34m.\u001b[0m\u001b[0mstats_descriptives_module\u001b[0m \u001b[0;32mimport\u001b[0m \u001b[0mfreqs\u001b[0m\u001b[0;34m,\u001b[0m \u001b[0mdesc\u001b[0m\u001b[0;34m,\u001b[0m \u001b[0mxtab_cols\u001b[0m\u001b[0;34m,\u001b[0m \u001b[0mxtab_rows\u001b[0m\u001b[0;34m,\u001b[0m \u001b[0mxtab_all\u001b[0m\u001b[0;34m\u001b[0m\u001b[0;34m\u001b[0m\u001b[0m\n\u001b[0m\u001b[1;32m      3\u001b[0m \u001b[0;32mfrom\u001b[0m \u001b[0mstats_analysis\u001b[0m\u001b[0;34m.\u001b[0m\u001b[0mstats_analysis_module\u001b[0m \u001b[0;32mimport\u001b[0m \u001b[0mchi_sq\u001b[0m\u001b[0;34m,\u001b[0m \u001b[0mchisq_posthoc_bon\u001b[0m\u001b[0;34m,\u001b[0m \u001b[0mttest_1sample\u001b[0m\u001b[0;34m,\u001b[0m \u001b[0mttest_2sample\u001b[0m\u001b[0;34m,\u001b[0m \u001b[0mttest_paired\u001b[0m\u001b[0;34m,\u001b[0m \u001b[0mKW_shape_assumption\u001b[0m\u001b[0;34m,\u001b[0m \u001b[0mcorr_pearson\u001b[0m\u001b[0;34m\u001b[0m\u001b[0;34m\u001b[0m\u001b[0m\n",
      "\u001b[0;31mModuleNotFoundError\u001b[0m: No module named 'stats_descriptives'"
     ]
    }
   ],
   "source": [
    "##Stats Packages - OLD WAY\n",
    "from stats_descriptives.stats_descriptives_module import freqs, desc, xtab_cols, xtab_rows, xtab_all \n",
    "from stats_analysis.stats_analysis_module import chi_sq, chisq_posthoc_bon, ttest_1sample, ttest_2sample, ttest_paired, KW_shape_assumption, corr_pearson"
   ]
  },
  {
   "cell_type": "code",
   "execution_count": 1,
   "id": "8b13a3d2",
   "metadata": {},
   "outputs": [],
   "source": [
    "#NEED THIS FOR DF \n",
    "import pandas as pd"
   ]
  },
  {
   "cell_type": "code",
   "execution_count": 2,
   "id": "43ad9473",
   "metadata": {},
   "outputs": [],
   "source": [
    "#trying things\n",
    "from Stats_Package_TEST.stats_descriptives_module import *\n",
    "from Stats_Package_TEST.stats_analysis_module import *"
   ]
  },
  {
   "cell_type": "code",
   "execution_count": null,
   "id": "9dacd8ac",
   "metadata": {},
   "outputs": [],
   "source": [
    "#from stats_descriptives.stats_descriptives_module import *"
   ]
  },
  {
   "cell_type": "code",
   "execution_count": 3,
   "id": "7e963b26",
   "metadata": {},
   "outputs": [
    {
     "data": {
      "text/plain": [
       "'hello HOORAY!'"
      ]
     },
     "execution_count": 3,
     "metadata": {},
     "output_type": "execute_result"
    }
   ],
   "source": [
    "hooray('hello')"
   ]
  },
  {
   "cell_type": "code",
   "execution_count": 5,
   "id": "cd866d47",
   "metadata": {},
   "outputs": [
    {
     "data": {
      "text/html": [
       "<div>\n",
       "<style scoped>\n",
       "    .dataframe tbody tr th:only-of-type {\n",
       "        vertical-align: middle;\n",
       "    }\n",
       "\n",
       "    .dataframe tbody tr th {\n",
       "        vertical-align: top;\n",
       "    }\n",
       "\n",
       "    .dataframe thead th {\n",
       "        text-align: right;\n",
       "    }\n",
       "</style>\n",
       "<table border=\"1\" class=\"dataframe\">\n",
       "  <thead>\n",
       "    <tr style=\"text-align: right;\">\n",
       "      <th></th>\n",
       "      <th>one</th>\n",
       "      <th>two</th>\n",
       "      <th>three</th>\n",
       "      <th>four</th>\n",
       "    </tr>\n",
       "  </thead>\n",
       "  <tbody>\n",
       "    <tr>\n",
       "      <th>0</th>\n",
       "      <td>1</td>\n",
       "      <td>4</td>\n",
       "      <td>cat</td>\n",
       "      <td>4</td>\n",
       "    </tr>\n",
       "    <tr>\n",
       "      <th>1</th>\n",
       "      <td>2</td>\n",
       "      <td>5</td>\n",
       "      <td>dog</td>\n",
       "      <td>4</td>\n",
       "    </tr>\n",
       "    <tr>\n",
       "      <th>2</th>\n",
       "      <td>3</td>\n",
       "      <td>6</td>\n",
       "      <td>birb</td>\n",
       "      <td>4</td>\n",
       "    </tr>\n",
       "    <tr>\n",
       "      <th>3</th>\n",
       "      <td>4</td>\n",
       "      <td>7</td>\n",
       "      <td>mouz</td>\n",
       "      <td>4</td>\n",
       "    </tr>\n",
       "  </tbody>\n",
       "</table>\n",
       "</div>"
      ],
      "text/plain": [
       "   one  two three  four\n",
       "0    1    4   cat     4\n",
       "1    2    5   dog     4\n",
       "2    3    6  birb     4\n",
       "3    4    7  mouz     4"
      ]
     },
     "execution_count": 5,
     "metadata": {},
     "output_type": "execute_result"
    }
   ],
   "source": [
    "#create test df\n",
    "df = pd.DataFrame({'one': [1,2,3,4], 'two': [4,5,6,7], 'three': ['cat', 'dog', 'birb', 'mouz'], 'four' : [4,4,4,4], 'five', ['', 'a', 'b', 'c']})\n",
    "df"
   ]
  },
  {
   "cell_type": "code",
   "execution_count": 6,
   "id": "f6e18bf2",
   "metadata": {},
   "outputs": [
    {
     "data": {
      "text/html": [
       "<div>\n",
       "<style scoped>\n",
       "    .dataframe tbody tr th:only-of-type {\n",
       "        vertical-align: middle;\n",
       "    }\n",
       "\n",
       "    .dataframe tbody tr th {\n",
       "        vertical-align: top;\n",
       "    }\n",
       "\n",
       "    .dataframe thead th {\n",
       "        text-align: right;\n",
       "    }\n",
       "</style>\n",
       "<table border=\"1\" class=\"dataframe\">\n",
       "  <thead>\n",
       "    <tr style=\"text-align: right;\">\n",
       "      <th></th>\n",
       "      <th>Variable</th>\n",
       "      <th>Values</th>\n",
       "      <th>Counts</th>\n",
       "      <th>Percents</th>\n",
       "    </tr>\n",
       "  </thead>\n",
       "  <tbody>\n",
       "    <tr>\n",
       "      <th>0</th>\n",
       "      <td>three</td>\n",
       "      <td>cat</td>\n",
       "      <td>1</td>\n",
       "      <td>25.0%</td>\n",
       "    </tr>\n",
       "    <tr>\n",
       "      <th>1</th>\n",
       "      <td>three</td>\n",
       "      <td>dog</td>\n",
       "      <td>1</td>\n",
       "      <td>25.0%</td>\n",
       "    </tr>\n",
       "    <tr>\n",
       "      <th>2</th>\n",
       "      <td>three</td>\n",
       "      <td>birb</td>\n",
       "      <td>1</td>\n",
       "      <td>25.0%</td>\n",
       "    </tr>\n",
       "    <tr>\n",
       "      <th>3</th>\n",
       "      <td>three</td>\n",
       "      <td>mouz</td>\n",
       "      <td>1</td>\n",
       "      <td>25.0%</td>\n",
       "    </tr>\n",
       "  </tbody>\n",
       "</table>\n",
       "</div>"
      ],
      "text/plain": [
       "  Variable Values  Counts Percents\n",
       "0    three    cat       1    25.0%\n",
       "1    three    dog       1    25.0%\n",
       "2    three   birb       1    25.0%\n",
       "3    three   mouz       1    25.0%"
      ]
     },
     "execution_count": 6,
     "metadata": {},
     "output_type": "execute_result"
    }
   ],
   "source": [
    "#test freqs from descriptives\n",
    "freqs(df, ['three'], False)"
   ]
  },
  {
   "cell_type": "code",
   "execution_count": 7,
   "id": "afd1d815",
   "metadata": {},
   "outputs": [
    {
     "data": {
      "text/html": [
       "<div>\n",
       "<style scoped>\n",
       "    .dataframe tbody tr th:only-of-type {\n",
       "        vertical-align: middle;\n",
       "    }\n",
       "\n",
       "    .dataframe tbody tr th {\n",
       "        vertical-align: top;\n",
       "    }\n",
       "\n",
       "    .dataframe thead th {\n",
       "        text-align: right;\n",
       "    }\n",
       "</style>\n",
       "<table border=\"1\" class=\"dataframe\">\n",
       "  <thead>\n",
       "    <tr style=\"text-align: right;\">\n",
       "      <th></th>\n",
       "      <th>IV</th>\n",
       "      <th>DV</th>\n",
       "      <th>Chi-square test</th>\n",
       "      <th>results</th>\n",
       "      <th>Significance (&lt;0.05)</th>\n",
       "    </tr>\n",
       "  </thead>\n",
       "  <tbody>\n",
       "    <tr>\n",
       "      <th>0</th>\n",
       "      <td>one</td>\n",
       "      <td>three</td>\n",
       "      <td>Pearson Chi-square ( 9.0) =</td>\n",
       "      <td>12.0000</td>\n",
       "      <td></td>\n",
       "    </tr>\n",
       "    <tr>\n",
       "      <th>1</th>\n",
       "      <td>one</td>\n",
       "      <td>three</td>\n",
       "      <td>p-value =</td>\n",
       "      <td>0.2133</td>\n",
       "      <td>False</td>\n",
       "    </tr>\n",
       "    <tr>\n",
       "      <th>2</th>\n",
       "      <td>one</td>\n",
       "      <td>three</td>\n",
       "      <td>Cramer's V =</td>\n",
       "      <td>1.0000</td>\n",
       "      <td></td>\n",
       "    </tr>\n",
       "  </tbody>\n",
       "</table>\n",
       "</div>"
      ],
      "text/plain": [
       "    IV     DV               Chi-square test  results Significance (<0.05)\n",
       "0  one  three  Pearson Chi-square ( 9.0) =   12.0000                     \n",
       "1  one  three                    p-value =    0.2133                False\n",
       "2  one  three                 Cramer's V =    1.0000                     "
      ]
     },
     "execution_count": 7,
     "metadata": {},
     "output_type": "execute_result"
    }
   ],
   "source": [
    "#test chisq from analysis\n",
    "chi_sq(df, ['three'], 'one', 0.05)"
   ]
  },
  {
   "cell_type": "code",
   "execution_count": null,
   "id": "19309b7a",
   "metadata": {},
   "outputs": [],
   "source": []
  }
 ],
 "metadata": {
  "kernelspec": {
   "display_name": "Python 3",
   "language": "python",
   "name": "python3"
  },
  "language_info": {
   "codemirror_mode": {
    "name": "ipython",
    "version": 3
   },
   "file_extension": ".py",
   "mimetype": "text/x-python",
   "name": "python",
   "nbconvert_exporter": "python",
   "pygments_lexer": "ipython3",
   "version": "3.8.8"
  }
 },
 "nbformat": 4,
 "nbformat_minor": 5
}
