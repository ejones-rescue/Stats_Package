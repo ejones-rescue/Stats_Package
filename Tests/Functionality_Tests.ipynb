{
 "cells": [
  {
   "cell_type": "code",
   "execution_count": 1,
   "id": "36e2f45e",
   "metadata": {},
   "outputs": [],
   "source": [
    "#Standard Packages\n",
    "import pandas as pd\n",
    "import numpy as np\n",
    "import pickle\n",
    "import qgrid\n",
    "#import matplotlib.pyplot as plt\n",
    "#Creates view function for qgrid\n",
    "def view(df_test):\n",
    "   return qgrid.show_grid(df_test, grid_options={'forceFitColumns': False, 'defaultColumnWidth': 100})\n",
    "import warnings\n",
    "warnings.filterwarnings('ignore')\n",
    "#import researchpy as rp\n",
    "#from itertools import combinations\n",
    "import scipy.stats #as stats\n",
    "#from statsmodels.stats.multitest import multipletests\n",
    "#import xlsxwriter"
   ]
  },
  {
   "cell_type": "markdown",
   "id": "e5407c9f",
   "metadata": {},
   "source": [
    "### Importing Stats Packages\n",
    "* to install the Stats Packages you need to run pip install \"git+https://github.com/rescueds/Stats_Package.git\" in your terminal\n",
    "* then run the below to install all functions"
   ]
  },
  {
   "cell_type": "code",
   "execution_count": 2,
   "id": "0783ffc8",
   "metadata": {},
   "outputs": [],
   "source": [
    "##Stats Packages - Github import, tested in the Github_Tests notebook. \n",
    "#from stats_descriptives.stats_descriptives_module import freqs, desc, xtab_cols, xtab_rows, xtab_all \n",
    "#from stats_analysis.stats_analysis_module import chi_sq, chisq_posthoc_bon, ttest_1sample, ttest_2sample, ttest_paired, KW_shape_assumption, corr_pearson"
   ]
  },
  {
   "cell_type": "code",
   "execution_count": 3,
   "id": "34515e04",
   "metadata": {},
   "outputs": [],
   "source": [
    "#Import for iterative testing\n",
    "import import_ipynb\n",
    "from stats_descriptives_module import freqs, desc,desc_subcats, xtab_cols, xtab_rows, xtab_all \n",
    "from stats_analysis_module import chi_sq, chisq_posthoc_bon, ttest_1sample, ttest_2sample, ttest_paired, KW_shape_assumption, corr_pearson"
   ]
  },
  {
   "cell_type": "code",
   "execution_count": 4,
   "id": "5bb6ebc2",
   "metadata": {},
   "outputs": [],
   "source": [
    "#read in data file\n",
    "df = pd.read_pickle(r'TEST_FILE_BTH_Tracker_Preprocessed.pkl')\n",
    "#includes only\n",
    "df = df[df['Inclusion_Status'] == 1]"
   ]
  },
  {
   "cell_type": "code",
   "execution_count": null,
   "id": "1b2239f6",
   "metadata": {},
   "outputs": [],
   "source": [
    "#If needed: \n",
    "#df.columns.to_list()"
   ]
  },
  {
   "cell_type": "markdown",
   "id": "2113f1d6",
   "metadata": {},
   "source": [
    "## Tests - Frequencies_Xtabs_Functions"
   ]
  },
  {
   "cell_type": "code",
   "execution_count": null,
   "id": "21dc0176",
   "metadata": {},
   "outputs": [],
   "source": [
    "#frequencies function\n",
    "#TO DISCUSS - played w/ formatting from the article, which was super fun - but could not export to xlsx, any value in html export? Or just in python? \n",
    "test_freq = freqs(df,['Project_Wave', 'Project_Year', 'State_Zip'], False)\n",
    "#test_freq\n",
    "#view(test_freq)"
   ]
  },
  {
   "cell_type": "code",
   "execution_count": null,
   "id": "18028820",
   "metadata": {},
   "outputs": [],
   "source": [
    "#descriptives function\n",
    "test_desc = desc(df,['VAL_SCORE_ALT','VAL_SCORE_COUNTRY','VAL_SCORE_HH','VAL_SCORE_MAIN','VAL_SCORE_POP',])\n",
    "#view(test_desc) \n",
    "#test_desc"
   ]
  },
  {
   "cell_type": "code",
   "execution_count": null,
   "id": "ee212bfa",
   "metadata": {},
   "outputs": [],
   "source": [
    "#descriptives w/ sub categories function\n",
    "sub_cat_list = [0,1]\n",
    "var_list = [ 'P30D_Alcohol_Cont','P30D_Marijuana_Cont','P30D_Marijuana_Vape_Cont']\n",
    "subcats_test = desc_subcats(df,var_list, 'Gender_Female', sub_cat_list)\n",
    "#view(subcats_test)\n",
    "#subcats_test"
   ]
  },
  {
   "cell_type": "code",
   "execution_count": null,
   "id": "e23e75d2",
   "metadata": {},
   "outputs": [],
   "source": [
    "#cross tabs columns\n",
    "test_cols = xtab_cols(df, ['P30D_VapeEcig'], 'Project_Year')\n",
    "#view(test_cols)\n",
    "test_cols"
   ]
  },
  {
   "cell_type": "code",
   "execution_count": null,
   "id": "2c47c8fa",
   "metadata": {},
   "outputs": [],
   "source": [
    "#cross tabs rows\n",
    "test_rows = xtab_rows(df, ['P30D_VapeEcig'], 'Project_Year')\n",
    "#view(test_rows)\n",
    "test_rows"
   ]
  },
  {
   "cell_type": "code",
   "execution_count": null,
   "id": "6fc8f3e1",
   "metadata": {},
   "outputs": [],
   "source": [
    "#cross tabs all\n",
    "test_all = xtab_all(df, ['P30D_VapeEcig'], 'Project_Year')\n",
    "#view(test_all)\n",
    "test_all"
   ]
  },
  {
   "cell_type": "code",
   "execution_count": null,
   "id": "3365f53a",
   "metadata": {},
   "outputs": [],
   "source": [
    "#missing data rows - cross tabs test: DROPS MISSING CASES\n",
    "test_all_missing = xtab_all(df, ['Susceptible_Cig'], 'Project_Year')\n",
    "test_all_missing"
   ]
  },
  {
   "cell_type": "code",
   "execution_count": null,
   "id": "b199b4d4",
   "metadata": {},
   "outputs": [],
   "source": [
    "#missing data columns - cross tabs test: DROPS MISSING CASES\n",
    "test_all_missing = xtab_all(df, ['Project_Year'], 'Susceptible_Cig')\n",
    "test_all_missing"
   ]
  },
  {
   "cell_type": "code",
   "execution_count": null,
   "id": "e9f205ef",
   "metadata": {},
   "outputs": [],
   "source": [
    "#Export examples\n",
    "#test_freq.to_csv('test_freq.csv', index = False)\n",
    "#test_cols.to_csv('test_cols.csv', index = False)\n",
    "#test_rows.to_csv('test_rows.csv', index = False)"
   ]
  },
  {
   "cell_type": "markdown",
   "id": "9b7a9d12",
   "metadata": {},
   "source": [
    "## Tests - ChiSquare"
   ]
  },
  {
   "cell_type": "code",
   "execution_count": null,
   "id": "4383e14d",
   "metadata": {
    "scrolled": true
   },
   "outputs": [],
   "source": [
    "#Chi sq - add sig column add input for what level of sig, input your sig level . \n",
    "test_cs = chi_sq(df, ['P30D_VapeEcig','P30D_Cig','P30D_Cigar','P30D_Hookah','P30D_Chew', 'P30D_Snus'], 'Project_Year', 0.05)\n",
    "#test_cs"
   ]
  },
  {
   "cell_type": "code",
   "execution_count": null,
   "id": "c39f1b72",
   "metadata": {},
   "outputs": [],
   "source": [
    "#chi sq post hoc (bonferroni) - add sig level input here as well. Change \"Reject Null\" to \"Significance\" potetenially Y/N instead of true false. \n",
    "test_bon = chisq_posthoc_bon(df, ['P30D_VapeEcig','P30D_Cig','P30D_Cigar','P30D_Hookah','P30D_Chew'], 'Project_Year', 0.05)\n",
    "#view(test_bon)\n",
    "#test_bon"
   ]
  },
  {
   "cell_type": "markdown",
   "id": "474ff306",
   "metadata": {},
   "source": [
    "## Tests - T_Test\n",
    "IDK Whats happening try on another dataset"
   ]
  },
  {
   "cell_type": "code",
   "execution_count": 5,
   "id": "a5afe511",
   "metadata": {},
   "outputs": [],
   "source": [
    "#t-test 1 sample \n",
    "test_1samp = ttest_1sample(df, ['P30D_VapeEcig_Cont','P30D_Cig_Cont', 'P30D_Cigar_Cont'], [5,10,2], 0.05)\n",
    "#test_1samp"
   ]
  },
  {
   "cell_type": "code",
   "execution_count": null,
   "id": "f70d3960",
   "metadata": {},
   "outputs": [],
   "source": [
    "##Two sample t-test function, just one test, not user facing\n",
    "#def ttest_2sample_1(df, DV, IV, sub_category_1, sub_category_2, significance_level):\n",
    "#    t_statistic, pval = scipy.stats.ttest_ind(df[DV][df[IV] == sub_category_1], \n",
    "#                                              df[DV][df[IV] == sub_category_2], nan_policy = 'omit')\n",
    "#    ttest_df = pd.DataFrame(data = {'t statistic': t_statistic, 'p value': pval}, index = [0])\n",
    "#    ttest_df['Significance' + ' (<' + str(significance_level) + \")\"] = np.where(ttest_df['p value'] < significance_level, True, False)\n",
    "#    ttest_df['DV'] = DV\n",
    "#    ttest_df['IV'] = IV\n",
    "#    ttest_df = ttest_df[['IV', 'DV', 't statistic', 'p value', 'Significance (<0.05)']]\n",
    "#    return ttest_df\n",
    "#\n",
    "##Two sample t-test function, user facing, takes df, list of DV's, your IV, and your subcategories (only 2 allowed)\n",
    "#def ttest_2sample(df, DV_list, IV, sub_category_1, sub_category_2, significance_level):\n",
    "#    all_df = pd.DataFrame()\n",
    "#    df[DV_list] = df[DV_list].astype(float) #convert dv's to float\n",
    "#    for x in DV_list:\n",
    "#        z = ttest_2sample_1(df, x, IV, sub_category_1, sub_category_2, significance_level)\n",
    "#        all_df = all_df.append(z)\n",
    "#    return all_df"
   ]
  },
  {
   "cell_type": "code",
   "execution_count": 28,
   "id": "cda4eac2",
   "metadata": {},
   "outputs": [],
   "source": [
    "#Two sample t-test function, just one test, not user facing\n",
    "def ttest_2sample_1(df, DV, IV, sub_category_1, sub_category_2, significance_level):\n",
    "    t_statistic, pval = scipy.stats.ttest_ind(df[DV][df[IV] == sub_category_1], \n",
    "                                              df[DV][df[IV] == sub_category_2], nan_policy = 'omit')\n",
    "    ttest_df = pd.DataFrame(data = {'t statistic': t_statistic, 'p value': pval}, index = [0])\n",
    "    ttest_df['Significance' + ' (<' + str(significance_level) + \")\"] = np.where(ttest_df['p value'] < significance_level, True, False)\n",
    "    ttest_df['DV'] = DV\n",
    "    ttest_df['IV'] = IV\n",
    "    ttest_df['Subcategories'] = str(sub_category_1) + \",\" + str(sub_category_2)\n",
    "    ttest_df = ttest_df[['IV', \"Subcategories\", 'DV', 't statistic', 'p value', 'Significance (<0.05)']]\n",
    "    return ttest_df\n",
    "\n",
    "#Two sample t-test function, user facing, takes df, list of DV's, your IV, and your subcategories (only 2 allowed)\n",
    "def ttest_2sample(df, DV_list, IV, sub_category_1, sub_category_2, significance_level):\n",
    "    all_df = pd.DataFrame()\n",
    "    df[DV_list] = df[DV_list].astype(float) #convert dv's to float\n",
    "    for x in DV_list:\n",
    "        z = ttest_2sample_1(df, x, IV, sub_category_1, sub_category_2, significance_level)\n",
    "        all_df = all_df.append(z)\n",
    "    return all_df\n",
    "\n",
    "#Two sample t-test function????\n",
    "def ttest_2sample00(df, DV_list, IV, sub_category_list_1, sub_category_list_2, significance_level):\n",
    "    all_df = pd.DataFrame()\n",
    "    for x,y in zip(sub_category_list_1, sub_category_list_2):\n",
    "        z = ttest_2sample(df, x, IV, sub_category_1, sub_category_2, significance_level)\n",
    "        all_df = all_df.append(z)\n",
    "    return all_df"
   ]
  },
  {
   "cell_type": "code",
   "execution_count": 29,
   "id": "c943b0c8",
   "metadata": {},
   "outputs": [
    {
     "data": {
      "text/html": [
       "<div>\n",
       "<style scoped>\n",
       "    .dataframe tbody tr th:only-of-type {\n",
       "        vertical-align: middle;\n",
       "    }\n",
       "\n",
       "    .dataframe tbody tr th {\n",
       "        vertical-align: top;\n",
       "    }\n",
       "\n",
       "    .dataframe thead th {\n",
       "        text-align: right;\n",
       "    }\n",
       "</style>\n",
       "<table border=\"1\" class=\"dataframe\">\n",
       "  <thead>\n",
       "    <tr style=\"text-align: right;\">\n",
       "      <th></th>\n",
       "      <th>IV</th>\n",
       "      <th>Subcategories</th>\n",
       "      <th>DV</th>\n",
       "      <th>t statistic</th>\n",
       "      <th>p value</th>\n",
       "      <th>Significance (&lt;0.05)</th>\n",
       "    </tr>\n",
       "  </thead>\n",
       "  <tbody>\n",
       "    <tr>\n",
       "      <th>0</th>\n",
       "      <td>Gender_Male</td>\n",
       "      <td>0,1</td>\n",
       "      <td>P30D_VapeEcig_Cont</td>\n",
       "      <td>0.319908</td>\n",
       "      <td>0.749313</td>\n",
       "      <td>False</td>\n",
       "    </tr>\n",
       "    <tr>\n",
       "      <th>0</th>\n",
       "      <td>Gender_Male</td>\n",
       "      <td>0,1</td>\n",
       "      <td>P30D_Cig_Cont</td>\n",
       "      <td>0.269480</td>\n",
       "      <td>0.787789</td>\n",
       "      <td>False</td>\n",
       "    </tr>\n",
       "    <tr>\n",
       "      <th>0</th>\n",
       "      <td>Gender_Male</td>\n",
       "      <td>0,1</td>\n",
       "      <td>P30D_Cigar_Cont</td>\n",
       "      <td>0.869341</td>\n",
       "      <td>0.385519</td>\n",
       "      <td>False</td>\n",
       "    </tr>\n",
       "  </tbody>\n",
       "</table>\n",
       "</div>"
      ],
      "text/plain": [
       "            IV Subcategories                  DV  t statistic   p value  \\\n",
       "0  Gender_Male           0,1  P30D_VapeEcig_Cont     0.319908  0.749313   \n",
       "0  Gender_Male           0,1       P30D_Cig_Cont     0.269480  0.787789   \n",
       "0  Gender_Male           0,1     P30D_Cigar_Cont     0.869341  0.385519   \n",
       "\n",
       "   Significance (<0.05)  \n",
       "0                 False  \n",
       "0                 False  \n",
       "0                 False  "
      ]
     },
     "execution_count": 29,
     "metadata": {},
     "output_type": "execute_result"
    }
   ],
   "source": [
    "#t-test 2 sample - numeric subgroups\n",
    "test_2samp = ttest_2sample(df,['P30D_VapeEcig_Cont', 'P30D_Cig_Cont', 'P30D_Cigar_Cont'], 'Gender_Male', 0,1,0.05)\n",
    "test_2samp"
   ]
  },
  {
   "cell_type": "code",
   "execution_count": 30,
   "id": "aff16ab4",
   "metadata": {},
   "outputs": [
    {
     "data": {
      "text/html": [
       "<div>\n",
       "<style scoped>\n",
       "    .dataframe tbody tr th:only-of-type {\n",
       "        vertical-align: middle;\n",
       "    }\n",
       "\n",
       "    .dataframe tbody tr th {\n",
       "        vertical-align: top;\n",
       "    }\n",
       "\n",
       "    .dataframe thead th {\n",
       "        text-align: right;\n",
       "    }\n",
       "</style>\n",
       "<table border=\"1\" class=\"dataframe\">\n",
       "  <thead>\n",
       "    <tr style=\"text-align: right;\">\n",
       "      <th></th>\n",
       "      <th>IV</th>\n",
       "      <th>Subcategories</th>\n",
       "      <th>DV</th>\n",
       "      <th>t statistic</th>\n",
       "      <th>p value</th>\n",
       "      <th>Significance (&lt;0.05)</th>\n",
       "    </tr>\n",
       "  </thead>\n",
       "  <tbody>\n",
       "    <tr>\n",
       "      <th>0</th>\n",
       "      <td>Project_Year</td>\n",
       "      <td>2019,2020</td>\n",
       "      <td>P30D_VapeEcig_Cont</td>\n",
       "      <td>5.474651</td>\n",
       "      <td>4.825399e-08</td>\n",
       "      <td>True</td>\n",
       "    </tr>\n",
       "    <tr>\n",
       "      <th>0</th>\n",
       "      <td>Project_Year</td>\n",
       "      <td>2019,2020</td>\n",
       "      <td>P30D_Cig_Cont</td>\n",
       "      <td>-0.979180</td>\n",
       "      <td>3.275866e-01</td>\n",
       "      <td>False</td>\n",
       "    </tr>\n",
       "    <tr>\n",
       "      <th>0</th>\n",
       "      <td>Project_Year</td>\n",
       "      <td>2019,2020</td>\n",
       "      <td>P30D_Cigar_Cont</td>\n",
       "      <td>-0.511173</td>\n",
       "      <td>6.092756e-01</td>\n",
       "      <td>False</td>\n",
       "    </tr>\n",
       "  </tbody>\n",
       "</table>\n",
       "</div>"
      ],
      "text/plain": [
       "             IV Subcategories                  DV  t statistic       p value  \\\n",
       "0  Project_Year     2019,2020  P30D_VapeEcig_Cont     5.474651  4.825399e-08   \n",
       "0  Project_Year     2019,2020       P30D_Cig_Cont    -0.979180  3.275866e-01   \n",
       "0  Project_Year     2019,2020     P30D_Cigar_Cont    -0.511173  6.092756e-01   \n",
       "\n",
       "   Significance (<0.05)  \n",
       "0                  True  \n",
       "0                 False  \n",
       "0                 False  "
      ]
     },
     "execution_count": 30,
     "metadata": {},
     "output_type": "execute_result"
    }
   ],
   "source": [
    "#t-test 2 sample - categorical subgroups, cannot combine multipe subgroups w/o concat\n",
    "test_2samp = ttest_2sample(df,['P30D_VapeEcig_Cont', 'P30D_Cig_Cont', 'P30D_Cigar_Cont'], 'Project_Year', '2019','2020',0.05)\n",
    "test_2samp"
   ]
  },
  {
   "cell_type": "code",
   "execution_count": null,
   "id": "d7dd4d83",
   "metadata": {},
   "outputs": [],
   "source": [
    "#t-test paired\n",
    "#NOTE: rare to use this - dont have the right data for this example but could see it work below with Gender \n",
    "test_paired = ttest_paired(df, ['P30D_VapeEcig_Cont','P30D_Cig_Cont', 'P30D_Cigar_Cont'], 'Gender_Female', 0.05)\n",
    "test_paired "
   ]
  },
  {
   "cell_type": "markdown",
   "id": "263db570",
   "metadata": {},
   "source": [
    "## Tests - Correlations"
   ]
  },
  {
   "cell_type": "code",
   "execution_count": null,
   "id": "083f285e",
   "metadata": {},
   "outputs": [],
   "source": [
    "#correlation pearson\n",
    "test_corr = corr_pearson(df, ['P30D_VapeEcig_Cont','P30D_Cig_Cont', 'P30D_Cigar_Cont'], 'VAL_SCORE_ALT', 0.05)\n",
    "#test_corr"
   ]
  },
  {
   "cell_type": "markdown",
   "id": "8cc632ad",
   "metadata": {},
   "source": [
    "## Tests - KW_Functions"
   ]
  },
  {
   "cell_type": "code",
   "execution_count": null,
   "id": "75e36517",
   "metadata": {
    "scrolled": true
   },
   "outputs": [],
   "source": [
    "#KW assumption #normality test - ggplot \n",
    "test_shape = KW_shape_assumption(df,'P30D_VapeEcig_Cont', 'Project_Year', ['2019', '2020', '2021', '2022'])\n",
    "test_shape"
   ]
  },
  {
   "cell_type": "markdown",
   "id": "fe5e898d",
   "metadata": {},
   "source": [
    "# To Do: \n",
    "* Normalize percentages in xtabs/freqs\n",
    "* ANOVA and KW functions\n",
    "* Maybe MANOVA? Could see myself needing regressions. Any other requests? \n",
    "* Create SOP for functions\n",
    "* Standardize imports - github?\n",
    "* Discuss w/ RM is this even useful for others? Will still require some python training for things they could do in SPSS..."
   ]
  },
  {
   "cell_type": "code",
   "execution_count": null,
   "id": "a9f944da",
   "metadata": {},
   "outputs": [],
   "source": [
    "## Create a Pandas Excel writer using XlsxWriter as the engine.\n",
    "#writer = pd.ExcelWriter('fancy.xlsx', engine='xlsxwriter')\n",
    "#test_cols.to_excel(writer, index=False, sheet_name='Project_Year')\n",
    "#\n",
    "## Get access to the workbook and sheet\n",
    "#workbook = writer.book\n",
    "#worksheet = writer.sheets['report']\n",
    "#\n",
    "## Add a percent format with 1 decimal point\n",
    "#percent_fmt = workbook.add_format({'num_format': '0.0%', 'bold': True})\n",
    "## Percent columns\n",
    "#worksheet.set_column('L:L', 12, percent_fmt)"
   ]
  }
 ],
 "metadata": {
  "kernelspec": {
   "display_name": "Python 3",
   "language": "python",
   "name": "python3"
  },
  "language_info": {
   "codemirror_mode": {
    "name": "ipython",
    "version": 3
   },
   "file_extension": ".py",
   "mimetype": "text/x-python",
   "name": "python",
   "nbconvert_exporter": "python",
   "pygments_lexer": "ipython3",
   "version": "3.8.8"
  }
 },
 "nbformat": 4,
 "nbformat_minor": 5
}
